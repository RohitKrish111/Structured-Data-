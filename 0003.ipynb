{
 "cells": [
  {
   "cell_type": "code",
   "execution_count": null,
   "id": "284ca481",
   "metadata": {},
   "outputs": [],
   "source": [
    "import pandas as pd\n",
    "import matplotlib.pyplot as plt\n",
    "from sklearn.cluster import KMeans\n",
    "\n",
    "# Load the dataset\n",
    "df = pd.read_parquet('Train.parquet')\n",
    "\n",
    "# Filter the dataset for \"Target Drug\" incidents only\n",
    "target_drug_df = df[df['Incident'] == 'TARGET DRUG']\n",
    "\n",
    "# Convert the dates to month-year format\n",
    "target_drug_df['MonthYear'] = pd.to_datetime(target_drug_df['Date']).dt.to_period('M')\n",
    "\n",
    "# Group the data by patient and month\n",
    "patient_month_df = target_drug_df.groupby(['Patient-Uid', 'MonthYear']).size().reset_index(name='Prescriptions')\n",
    "\n",
    "# Pivot the table to have patients as rows and months as columns\n",
    "pivot_table = patient_month_df.pivot(index='Patient-Uid', columns='MonthYear', values='Prescriptions')\n",
    "pivot_table = pivot_table.fillna(0)  # Fill missing values with 0\n",
    "\n",
    "# Apply K-Means clustering\n",
    "kmeans = KMeans(n_clusters=3)  # Adjust the number of clusters as needed\n",
    "kmeans.fit(pivot_table.values)\n",
    "\n",
    "# Assign cluster labels to each patient\n",
    "patient_month_df['Cluster'] = kmeans.labels_\n",
    "\n",
    "# Visualize the prescription patterns\n",
    "clusters = sorted(patient_month_df['Cluster'].unique())\n",
    "plt.figure(figsize=(12, 6))\n",
    "\n",
    "for cluster in clusters:\n",
    "    cluster_data = patient_month_df[patient_month_df['Cluster'] == cluster]\n",
    "    prescriptions = cluster_data.groupby('MonthYear')['Patient-Uid'].count()\n",
    "    plt.plot(prescriptions.index, prescriptions.values, label=f'Cluster {cluster + 1}')\n",
    "\n",
    "plt.xlabel('Month')\n",
    "plt.ylabel('Prescriptions')\n",
    "plt.title('Prescription Patterns for Target Drug')\n",
    "plt.legend()\n",
    "plt.xticks(rotation=45)\n",
    "plt.show()\n"
   ]
  }
 ],
 "metadata": {
  "kernelspec": {
   "display_name": "Python 3 (ipykernel)",
   "language": "python",
   "name": "python3"
  },
  "language_info": {
   "codemirror_mode": {
    "name": "ipython",
    "version": 3
   },
   "file_extension": ".py",
   "mimetype": "text/x-python",
   "name": "python",
   "nbconvert_exporter": "python",
   "pygments_lexer": "ipython3",
   "version": "3.9.12"
  }
 },
 "nbformat": 4,
 "nbformat_minor": 5
}
