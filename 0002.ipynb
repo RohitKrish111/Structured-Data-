{
 "cells": [
  {
   "cell_type": "code",
   "execution_count": null,
   "id": "35492ded",
   "metadata": {},
   "outputs": [],
   "source": [
    "import pandas as pd\n",
    "import matplotlib.pyplot as plt\n",
    "\n",
    "# Load the dataset\n",
    "df = pd.read_parquet('Train.parquet')\n",
    "\n",
    "# Filter the dataset for \"Target Drug\" incidents only\n",
    "target_drug_df = df[df['Incident'] == 'TARGET DRUG']\n",
    "\n",
    "# Calculate the drop-off rate per month\n",
    "target_drug_df['Month'] = pd.to_datetime(target_drug_df['Date']).dt.to_period('M')\n",
    "dropoff_rate = target_drug_df.groupby('Month')['Patient-Uid'].nunique().reset_index(name='DropoffCount')\n",
    "\n",
    "# Plot the drop-off rate over time\n",
    "plt.figure(figsize=(10, 6))\n",
    "plt.plot(dropoff_rate['Month'], dropoff_rate['DropoffCount'])\n",
    "plt.xlabel('Month')\n",
    "plt.ylabel('Drop-off Count')\n",
    "plt.title('Drop-off Rate for Target Drug')\n",
    "plt.xticks(rotation=45)\n",
    "plt.show()\n",
    "\n",
    "# Identify the events driving drop-off\n",
    "event_dropoff = target_drug_df.groupby('Incident')['Patient-Uid'].nunique().reset_index(name='DropoffCount')\n",
    "event_dropoff = event_dropoff.sort_values('DropoffCount', ascending=False)\n",
    "\n",
    "# Plot the events driving drop-off\n",
    "plt.figure(figsize=(10, 6))\n",
    "plt.bar(event_dropoff['Incident'], event_dropoff['DropoffCount'])\n",
    "plt.xlabel('Incident')\n",
    "plt.ylabel('Drop-off Count')\n",
    "plt.title('Events Driving Drop-off for Target Drug')\n",
    "plt.xticks(rotation=45)\n",
    "plt.show()\n"
   ]
  }
 ],
 "metadata": {
  "kernelspec": {
   "display_name": "Python 3 (ipykernel)",
   "language": "python",
   "name": "python3"
  },
  "language_info": {
   "codemirror_mode": {
    "name": "ipython",
    "version": 3
   },
   "file_extension": ".py",
   "mimetype": "text/x-python",
   "name": "python",
   "nbconvert_exporter": "python",
   "pygments_lexer": "ipython3",
   "version": "3.9.12"
  }
 },
 "nbformat": 4,
 "nbformat_minor": 5
}
